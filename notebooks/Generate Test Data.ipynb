{
 "cells": [
  {
   "cell_type": "markdown",
   "metadata": {},
   "source": [
    "The purpose of this notebook is to generate test data for students and schools. "
   ]
  },
  {
   "cell_type": "code",
   "execution_count": 1,
   "metadata": {},
   "outputs": [],
   "source": [
    "from faker import Faker\n",
    "import pandas as pd\n",
    "from random import randint, choice, sample\n",
    "import numpy as np"
   ]
  },
  {
   "cell_type": "markdown",
   "metadata": {},
   "source": [
    "## Prepare Constants"
   ]
  },
  {
   "cell_type": "code",
   "execution_count": 2,
   "metadata": {},
   "outputs": [],
   "source": [
    "NUM_STUDENTS = 50\n",
    "MAX_STU_RANKS = 2 # must be > 1\n",
    "\n",
    "NUM_PARTNERS = 5 # must be > 1\n",
    "MAX_PARTNER_RANKS = 5 # must be partners * max_partners_ranks < students\n",
    "\n",
    "PARTNERS = ['College {0}'.format(i) for i in range(1, NUM_PARTNERS + 1)]"
   ]
  },
  {
   "cell_type": "code",
   "execution_count": 3,
   "metadata": {},
   "outputs": [],
   "source": [
    "# data factory to create test data\n",
    "dfactory = Faker()"
   ]
  },
  {
   "cell_type": "markdown",
   "metadata": {},
   "source": [
    "## Create Student Data"
   ]
  },
  {
   "cell_type": "code",
   "execution_count": 4,
   "metadata": {},
   "outputs": [
    {
     "data": {
      "text/html": [
       "<div>\n",
       "<style scoped>\n",
       "    .dataframe tbody tr th:only-of-type {\n",
       "        vertical-align: middle;\n",
       "    }\n",
       "\n",
       "    .dataframe tbody tr th {\n",
       "        vertical-align: top;\n",
       "    }\n",
       "\n",
       "    .dataframe thead th {\n",
       "        text-align: right;\n",
       "    }\n",
       "</style>\n",
       "<table border=\"1\" class=\"dataframe\">\n",
       "  <thead>\n",
       "    <tr style=\"text-align: right;\">\n",
       "      <th></th>\n",
       "      <th>slate_id</th>\n",
       "      <th>first_name</th>\n",
       "      <th>last_name</th>\n",
       "      <th>gender</th>\n",
       "      <th>ach_score</th>\n",
       "      <th>fin_score</th>\n",
       "    </tr>\n",
       "  </thead>\n",
       "  <tbody>\n",
       "    <tr>\n",
       "      <th>0</th>\n",
       "      <td>356611809</td>\n",
       "      <td>Devin</td>\n",
       "      <td>Silva</td>\n",
       "      <td>M</td>\n",
       "      <td>1</td>\n",
       "      <td>1</td>\n",
       "    </tr>\n",
       "    <tr>\n",
       "      <th>1</th>\n",
       "      <td>963487360</td>\n",
       "      <td>Brian</td>\n",
       "      <td>Nguyen</td>\n",
       "      <td>M</td>\n",
       "      <td>3</td>\n",
       "      <td>1</td>\n",
       "    </tr>\n",
       "    <tr>\n",
       "      <th>2</th>\n",
       "      <td>600569956</td>\n",
       "      <td>Desiree</td>\n",
       "      <td>Hines</td>\n",
       "      <td>F</td>\n",
       "      <td>3</td>\n",
       "      <td>1</td>\n",
       "    </tr>\n",
       "    <tr>\n",
       "      <th>3</th>\n",
       "      <td>684156216</td>\n",
       "      <td>Matthew</td>\n",
       "      <td>Mcdonald</td>\n",
       "      <td>F</td>\n",
       "      <td>2</td>\n",
       "      <td>2</td>\n",
       "    </tr>\n",
       "    <tr>\n",
       "      <th>4</th>\n",
       "      <td>971999253</td>\n",
       "      <td>Joseph</td>\n",
       "      <td>Bray</td>\n",
       "      <td>M</td>\n",
       "      <td>2</td>\n",
       "      <td>3</td>\n",
       "    </tr>\n",
       "  </tbody>\n",
       "</table>\n",
       "</div>"
      ],
      "text/plain": [
       "    slate_id first_name last_name gender  ach_score  fin_score\n",
       "0  356611809      Devin     Silva      M          1          1\n",
       "1  963487360      Brian    Nguyen      M          3          1\n",
       "2  600569956    Desiree     Hines      F          3          1\n",
       "3  684156216    Matthew  Mcdonald      F          2          2\n",
       "4  971999253     Joseph      Bray      M          2          3"
      ]
     },
     "execution_count": 4,
     "metadata": {},
     "output_type": "execute_result"
    }
   ],
   "source": [
    "stu_df = pd.DataFrame({\n",
    "    'slate_id': [\"{:09d}\".format(randint(1, 999999999)) \n",
    "                 for i in sample(range(int(1.2 * NUM_STUDENTS)), NUM_STUDENTS)],\n",
    "    'first_name': [dfactory.first_name() for i in range(NUM_STUDENTS)],\n",
    "    'last_name': [dfactory.last_name() for i in range(NUM_STUDENTS)],\n",
    "    'gender': [choice(['M', 'F', '']) for i in range(NUM_STUDENTS)],\n",
    "    'ach_score': [randint(1, 5) for i in range(NUM_STUDENTS)],\n",
    "    'fin_score': [randint(1, 5) for i in range(NUM_STUDENTS)]    \n",
    "})\n",
    "stu_df.head()"
   ]
  },
  {
   "cell_type": "code",
   "execution_count": 5,
   "metadata": {},
   "outputs": [],
   "source": [
    "# check for dupliates\n",
    "if stu_df['slate_id'].duplicated().value_counts().size > 1:\n",
    "    raise ValueError(\"Duplicate SlateIDs found... re-run.\")"
   ]
  },
  {
   "cell_type": "markdown",
   "metadata": {},
   "source": [
    "## Create Student Ranking for Schools"
   ]
  },
  {
   "cell_type": "code",
   "execution_count": 6,
   "metadata": {},
   "outputs": [],
   "source": [
    "def create_school_rank(slate_id, max_ranks, partners):\n",
    "    '''Function to randomly assign ranks for partners from studetns\n",
    "    \n",
    "    Use with `apply()` on student column to generate random partner ranks\n",
    "    for each student up to max allowed ranks. Must at least rank 1 partner\n",
    "    per student. Not all partners will be ranked.\n",
    "    \n",
    "    Args:\n",
    "        slate_id <str>: SlateID of student\n",
    "        max_ranks <int>: Maximum number of ranks per student allowed\n",
    "        partners <list>: List of partner/college names to rank from\n",
    "        \n",
    "    Return <pd.Series>:\n",
    "        Random student ranks per partner\n",
    "    '''\n",
    "    # choose random number of ranks per student up to `max_ranks`\n",
    "    rank_count = randint(1, max_ranks)\n",
    "    \n",
    "    # prep container\n",
    "    ranks = {}.fromkeys(partners)\n",
    "    ranks = {partner: i for i, partner in enumerate(sample(partners, rank_count), 1)}\n",
    "    \n",
    "    # add slate_id\n",
    "    ranks['slate_id'] = slate_id\n",
    "    \n",
    "    return pd.Series(ranks)"
   ]
  },
  {
   "cell_type": "code",
   "execution_count": 7,
   "metadata": {},
   "outputs": [],
   "source": [
    "# create student rankings for schools for each student, must rank at least 1 school\n",
    "stu_rank_df = stu_df['slate_id'].apply(create_school_rank, args = (MAX_STU_RANKS, PARTNERS))[(['slate_id'] + PARTNERS)]"
   ]
  },
  {
   "cell_type": "code",
   "execution_count": 8,
   "metadata": {},
   "outputs": [],
   "source": [
    "# make sure both data frame have same size\n",
    "if stu_df.shape[0] != stu_rank_df.shape[0]:\n",
    "    raise ValueError(\"Shape of Student dataframes DO NOT match up! They need to have the same number of students!\")"
   ]
  },
  {
   "cell_type": "code",
   "execution_count": 9,
   "metadata": {
    "scrolled": true
   },
   "outputs": [],
   "source": [
    "# some clean up; replace Nan with 0 and force to int\n",
    "stu_rank_df = stu_rank_df.replace(np.nan, 0)\n",
    "for partner in PARTNERS:\n",
    "    stu_rank_df[partner] = stu_rank_df[partner].astype(int)"
   ]
  },
  {
   "cell_type": "markdown",
   "metadata": {},
   "source": [
    "## Create Partner Ranks"
   ]
  },
  {
   "cell_type": "code",
   "execution_count": 10,
   "metadata": {},
   "outputs": [],
   "source": [
    "[1, 2, 3].extend([1, 2, 3])"
   ]
  },
  {
   "cell_type": "code",
   "execution_count": 11,
   "metadata": {
    "scrolled": false
   },
   "outputs": [],
   "source": [
    "partner_ranks = {\n",
    "    'partner_name': [], \n",
    "    'slate_id': [], \n",
    "    'rank': []\n",
    "}\n",
    "\n",
    "for partner in PARTNERS:\n",
    "    # choose random number of ranks per partner up to `max partner ranks`\n",
    "    rank_count = randint(1, MAX_PARTNER_RANKS)\n",
    "    \n",
    "    # chose randome sample of students\n",
    "    students = sample(list(stu_df['slate_id']), rank_count)\n",
    "    \n",
    "    # give random ranks to each student\n",
    "    ranks = list(range(1, rank_count + 1))\n",
    "    \n",
    "    partner_ranks['partner_name'].extend(([partner] * rank_count))\n",
    "    partner_ranks['slate_id'].extend(students)\n",
    "    partner_ranks['rank'].extend(ranks)\n",
    "\n",
    "partner_ranks = pd.DataFrame(partner_ranks)"
   ]
  },
  {
   "cell_type": "markdown",
   "metadata": {},
   "source": [
    "## Create outputs"
   ]
  },
  {
   "cell_type": "code",
   "execution_count": 12,
   "metadata": {},
   "outputs": [],
   "source": [
    "# student data\n",
    "stu_df.to_csv('./../data/raw/test/test_student_data.csv', encoding = 'utf8', index = False)"
   ]
  },
  {
   "cell_type": "code",
   "execution_count": 13,
   "metadata": {},
   "outputs": [],
   "source": [
    "# student ranks\n",
    "stu_rank_df.to_csv('./../data/raw/test/test_student_ranks.csv', encoding = 'utf8', index = False)"
   ]
  },
  {
   "cell_type": "code",
   "execution_count": 14,
   "metadata": {},
   "outputs": [],
   "source": [
    "# partner ranks\n",
    "partner_ranks.to_csv('./../data/raw/test/test_partner_ranks.csv', encoding = 'utf8', index = False)"
   ]
  },
  {
   "cell_type": "code",
   "execution_count": null,
   "metadata": {},
   "outputs": [],
   "source": []
  }
 ],
 "metadata": {
  "kernelspec": {
   "display_name": "match_algo",
   "language": "python",
   "name": "match_algo"
  },
  "language_info": {
   "codemirror_mode": {
    "name": "ipython",
    "version": 3
   },
   "file_extension": ".py",
   "mimetype": "text/x-python",
   "name": "python",
   "nbconvert_exporter": "python",
   "pygments_lexer": "ipython3",
   "version": "3.7.0"
  },
  "toc": {
   "base_numbering": 1,
   "nav_menu": {},
   "number_sections": true,
   "sideBar": true,
   "skip_h1_title": false,
   "title_cell": "Table of Contents",
   "title_sidebar": "Contents",
   "toc_cell": false,
   "toc_position": {},
   "toc_section_display": true,
   "toc_window_display": false
  }
 },
 "nbformat": 4,
 "nbformat_minor": 2
}
